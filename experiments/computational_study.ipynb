{
 "cells": [
  {
   "cell_type": "markdown",
   "id": "78d936ef-f1b0-4f6d-97b8-a5a09093c1f7",
   "metadata": {
    "tags": []
   },
   "source": [
    "<b>Computation study of the ICML submission \"Fair and Fast k-Center Clustering for Data Summarization\"<\\b>"
   ]
  },
  {
   "cell_type": "code",
   "execution_count": null,
   "id": "d982d42f-db73-45d4-aead-9bf068331ba2",
   "metadata": {},
   "outputs": [],
   "source": [
    "import numpy as np\n",
    "from ff_k_center import FFKCenter\n",
    "import time"
   ]
  },
  {
   "cell_type": "markdown",
   "id": "25e496f4-564f-47bf-9301-d8dfaf2cf4d8",
   "metadata": {},
   "source": [
    "choose the data set (representative intervals are choosen proportionally to the color-class size):"
   ]
  },
  {
   "cell_type": "code",
   "execution_count": 7,
   "id": "bdec7034-94f1-44b4-84c6-29bce0d99887",
   "metadata": {},
   "outputs": [],
   "source": [
    "#(file_name, k, rep_intervals) = ('countQuery', 7, [(1,1)]*7) # within seconds\n",
    "#(file_name, k, rep_intervals) = ('genderDiabetes', 12, [(6,6),(6,6)]) # within minutes\n",
    "#(file_name, k, rep_intervals) = ('raceAdult', 500, [(5,5),(17,17),(49,49),(5,5),(424,424)]) # takes multiple hours\n",
    "(file_name, k, rep_intervals) = ('subElectric', 32, [(1,1)]*32) # within hours\n"
   ]
  },
  {
   "cell_type": "markdown",
   "id": "d4b8105d-de94-410a-af37-522b6946b419",
   "metadata": {},
   "source": [
    "load data:"
   ]
  },
  {
   "cell_type": "code",
   "execution_count": 8,
   "id": "756061c9-c17f-45f5-9c0f-c3b2f87accd6",
   "metadata": {},
   "outputs": [
    {
     "name": "stdout",
     "output_type": "stream",
     "text": [
      "Number of points:  2049280 dimensions: 4 number of colors: 32\n"
     ]
    }
   ],
   "source": [
    "data = np.load(\"data/\"+file_name+\".npz\",allow_pickle=True)\n",
    "X = data['x']\n",
    "Y = data['y']\n",
    "num_colors = Y.max()+1\n",
    "print(\"Number of points: \", len(X), \"dimensions:\", len(X[0]), \"number of colors:\", num_colors)"
   ]
  },
  {
   "cell_type": "markdown",
   "id": "08218a32-c7a0-4455-bedf-53769ce1adb5",
   "metadata": {},
   "source": [
    "set up privacy bound range:"
   ]
  },
  {
   "cell_type": "code",
   "execution_count": null,
   "id": "8ea0742e-0493-4cfd-835b-2fdfd36d02e4",
   "metadata": {},
   "outputs": [],
   "source": [
    "resulution = 30 # choose number of computations here\n",
    "priv_start = 1\n",
    "priv_end = (int) ((len(X)-1)/k) # maximal feasible privacy bound\n",
    "step_size = max(1,(int) (priv_end/resulution))\n",
    "privacy_bound_range = range(priv_start, priv_end + 1,step_size)"
   ]
  },
  {
   "cell_type": "markdown",
   "id": "e6fef124-6cbf-42d3-aee3-cb87d1f5badb",
   "metadata": {},
   "source": [
    "execute algorithm:"
   ]
  },
  {
   "cell_type": "code",
   "execution_count": null,
   "id": "e1540cbe-c442-48d6-a4fe-40887a2e6f15",
   "metadata": {},
   "outputs": [],
   "source": [
    "import matplotlib.pyplot as plt\n",
    "from matplotlib.backends.backend_pdf import PdfPages\n",
    "\n",
    "# for a speed-up the last makePrivate execution can be disabled; the result might be worse, but the performance guarantee is still given.\n",
    "makePrivateRerun = True \n",
    "#makePrivateRerun = False \n",
    "\n",
    "# for plot:\n",
    "our_radii = []\n",
    "\n",
    "# init model:\n",
    "our = FFKCenter(k,priv_start,rep_intervals)\n",
    "our.insert(X, Y)\n",
    "\n",
    "# run with differnt privacy bounds:\n",
    "for priv_bound in privacy_bound_range:\n",
    "\n",
    "    # execute our algorithm:\n",
    "    our.privacy_bound = priv_bound\n",
    "    our.compute_clustering(verbose = 0, phase_2_rerun = makePrivateRerun)\n",
    "\n",
    "    # print results:\n",
    "    print(\"Privacy bound:\", priv_bound)\n",
    "    print(\"Model running time:\", our.running_time)\n",
    "    print(\"Our radius:\", our.radius, \"Number of Centers:\", len(our.centers))\n",
    "\n",
    "    # for plot:\n",
    "    our_radii.append(our.radius)"
   ]
  },
  {
   "cell_type": "markdown",
   "id": "451dfeb9-ecd4-4181-b2b3-e4a79c71b529",
   "metadata": {},
   "source": [
    "plot results:"
   ]
  },
  {
   "cell_type": "code",
   "execution_count": null,
   "id": "bdbe54f8-51b6-46a2-9f84-3ec68ce2c7a6",
   "metadata": {},
   "outputs": [],
   "source": [
    "import matplotlib.pyplot as plt\n",
    "plt.plot(privacy_bound_range,our_radii,label = \"our\", color = \"green\")\n",
    "plt.xlabel('privacy_bound')\n",
    "plt.ylabel('radius')\n",
    "plt.legend()\n",
    "plt.title(\"Radii for different privacy bounds\")\n",
    "plt.show()"
   ]
  }
 ],
 "metadata": {
  "kernelspec": {
   "display_name": "Python 3 (ipykernel)",
   "language": "python",
   "name": "python3"
  },
  "language_info": {
   "codemirror_mode": {
    "name": "ipython",
    "version": 3
   },
   "file_extension": ".py",
   "mimetype": "text/x-python",
   "name": "python",
   "nbconvert_exporter": "python",
   "pygments_lexer": "ipython3",
   "version": "3.9.5"
  }
 },
 "nbformat": 4,
 "nbformat_minor": 5
}
