{
 "cells": [
  {
   "cell_type": "code",
   "execution_count": 2,
   "id": "1c944b46-6984-4f03-bd50-5048d65032a9",
   "metadata": {},
   "outputs": [],
   "source": [
    "from ff_k_center import FFKCenter\n",
    "import numpy as np"
   ]
  },
  {
   "cell_type": "markdown",
   "id": "cdeac6ab-a122-4658-8ff7-c64d0bed5d4e",
   "metadata": {},
   "source": [
    "Create model with k=4, privacy_bound = 1 and representative intervals (1,13) for color class 0 and no restrictions for other color classes:"
   ]
  },
  {
   "cell_type": "code",
   "execution_count": 3,
   "id": "cad68d2e-6aea-48b1-99a3-db8b08a43f03",
   "metadata": {
    "tags": []
   },
   "outputs": [],
   "source": [
    "model = FFKCenter(4,1,[(1,13)]) # parameters: k, privacy_bound = 1, rep_intervals = []"
   ]
  },
  {
   "cell_type": "markdown",
   "id": "c61e9ad6-f727-4a46-8166-75cd3a6d568c",
   "metadata": {},
   "source": [
    "Load data in for of positions in the Eucleadean space (here dim = 2) and color labels for each point. Normal python arrays or numpy-arrays are fine.\n",
    "model.fit() loads the data and executes the algorithm afterwards."
   ]
  },
  {
   "cell_type": "code",
   "execution_count": 5,
   "id": "bab2c545-364c-40a6-b15e-49ccdecd9fbf",
   "metadata": {},
   "outputs": [
    {
     "name": "stdout",
     "output_type": "stream",
     "text": [
      "\n",
      "**** Solving: Clustering-Problem with k = 4, privacy_bound = 1 and representative_intervals: (1,13).\n",
      "\n",
      "  - Assertions done (time: 255.51µs): ClusteringProblem seems well stated.\n",
      "\n",
      "  - Phase 1 done (time: 4.743µs): Determined k = 4 centers by the Gonzalez heuristic: (0, 2, 4, 7).\n",
      "\n",
      "  - Phase 2 done (time: 436.555µs): Determined k = 4 clusterings:\n",
      "\tC_0:\tradius = 7.071068;\n",
      "\tC_1:\tradius = 5.8309517;\n",
      "\tC_2:\tradius = 5.0990195;\n",
      "\tC_3:\tradius = 2.828427;\n",
      "\n",
      "  - Phase 3 done (time: 19.37µs): Determined the following opening lists:\n",
      "\tC_0:\n",
      "\t\t(8) for forrest_radius = 0;\n",
      "\tC_1:\n",
      "\t\t(7, 1) for forrest_radius = 0;\n",
      "\t\t(7, 1) for forrest_radius = 7.071068;\n",
      "\tC_2:\n",
      "\t\t(4, 1, 3) for forrest_radius = 0;\n",
      "\t\t(4, 1, 3) for forrest_radius = 5.8309517;\n",
      "\t\t(4, 1, 3) for forrest_radius = 7.071068;\n",
      "\tC_3:\n",
      "\t\t(3, 1, 3, 1) for forrest_radius = 0;\n",
      "\t\t(3, 1, 3, 1) for forrest_radius = 5.0990195;\n",
      "\t\t(3, 1, 3, 1) for forrest_radius = 5.8309517;\n",
      "\t\t(3, 1, 3, 1) for forrest_radius = 6;\n",
      "\n",
      "  - Phase 4 done (time: 323.527µs with 6 threads on 8 cores): Number of flow problems solved: 4. Determined the following new centers:\n",
      "\tC_0:\t(0) \tassignment_radius: 0;\tforrest_radius: 0; number of flow problems solved: 1\n",
      "\tC_1:\t(0, 2) \tassignment_radius: 0;\tforrest_radius: 0; number of flow problems solved: 1\n",
      "\tC_2:\t(0, 2, 4) \tassignment_radius: 0;\tforrest_radius: 0; number of flow problems solved: 1\n",
      "\tC_3:\t(0, 2, 4, 7) \tassignment_radius: 0;\tforrest_radius: 0; number of flow problems solved: 1\n",
      "\n",
      "  - Phase 5 done (time: 311.691µs with 6 threads on 8 cores): Created assignments and chose the final clustering (based on C_3) with centers: (0, 2, 4, 7) and radius: 2.828427.\n",
      "\n",
      "**** Algorithm done (total time: 1.37317ms): Privacy-preserving representative k-center computed. Number of centers: 4; final radius: 2.828427.\n",
      "\tTimes: phase 1: 260.253µs; phase 2: 436.555µs; phase 3: 30.978µs; phase 4: 323.527µs; phase 5: 311.691µs; phase 2 rerun: -;\n"
     ]
    }
   ],
   "source": [
    "pos = np.array([[1,2],[0,0],[6,7],[0,-1],[-2,-3],[0,-1.2],[1,3],[6,1]])\n",
    "colors = np.array([0,0,0,1,1,0,0,1])\n",
    "model.fit(pos, colors, verbose = 2, thread_count = 6, phase_2_rerun = False, phase_5_gonzalez = True) # positions of points; followed by colors; Optional: verbose (0: silent, 1: brief, 2: verbose; default: 1); thread_count (default: #cores); phase_2_rerun (default: True); phase_5_gonzalez (default: False);"
   ]
  },
  {
   "cell_type": "code",
   "execution_count": 6,
   "id": "23d38f78-d700-4f8c-864e-c1c1944a306c",
   "metadata": {},
   "outputs": [
    {
     "data": {
      "image/png": "[encoded data removed]",
      "text/plain": [
       "<Figure size 864x576 with 1 Axes>"
      ]
     },
     "metadata": {
      "needs_background": "light"
     },
     "output_type": "display_data"
    }
   ],
   "source": [
    "model.plot2d() # for this matplotlib must be installed"
   ]
  },
  {
   "cell_type": "code",
   "execution_count": 7,
   "id": "887842e3-dfa2-4b4a-b8fd-9ada5a61f158",
   "metadata": {},
   "outputs": [
    {
     "data": {
      "text/plain": [
       "[0, 0, 1, 2, 2, 2, 0, 3]"
      ]
     },
     "execution_count": 7,
     "metadata": {},
     "output_type": "execute_result"
    }
   ],
   "source": [
    "model.cluster_labels # for each point a cluster_label (enumerated from 0,...,m)"
   ]
  },
  {
   "cell_type": "code",
   "execution_count": 8,
   "id": "10009ef3-c065-40c3-a24d-49671a321d8c",
   "metadata": {},
   "outputs": [
    {
     "data": {
      "text/plain": [
       "[0, 2, 4, 7]"
      ]
     },
     "execution_count": 8,
     "metadata": {},
     "output_type": "execute_result"
    }
   ],
   "source": [
    "model.centers # Chosen centers by the point-index."
   ]
  },
  {
   "cell_type": "code",
   "execution_count": 9,
   "id": "b1d0dd00-441a-4335-92d6-0c40efed4c07",
   "metadata": {},
   "outputs": [
    {
     "data": {
      "text/plain": [
       "[0, 0, 2, 4, 4, 4, 0, 7]"
      ]
     },
     "execution_count": 9,
     "metadata": {},
     "output_type": "execute_result"
    }
   ],
   "source": [
    "model.assignment # for each point the center it is assigned to."
   ]
  },
  {
   "cell_type": "markdown",
   "id": "34f66424-d42d-499e-b677-a3ef3bbecfa4",
   "metadata": {},
   "source": [
    "It is also possible to read/write the paramters. By writing the clustering is removed and needs to be recomputed via model.compute_clustering()."
   ]
  },
  {
   "cell_type": "code",
   "execution_count": 10,
   "id": "bcbe9051-1de6-4086-9e7e-c51a3a76aa77",
   "metadata": {},
   "outputs": [
    {
     "data": {
      "text/plain": [
       "[(1, 13)]"
      ]
     },
     "execution_count": 10,
     "metadata": {},
     "output_type": "execute_result"
    }
   ],
   "source": [
    "model.rep_intervals"
   ]
  },
  {
   "cell_type": "code",
   "execution_count": 11,
   "id": "68f45b92-8bbd-47f2-9450-0bb07989dfd7",
   "metadata": {},
   "outputs": [
    {
     "data": {
      "text/plain": [
       "1"
      ]
     },
     "execution_count": 11,
     "metadata": {},
     "output_type": "execute_result"
    }
   ],
   "source": [
    "model.privacy_bound"
   ]
  },
  {
   "cell_type": "code",
   "execution_count": 12,
   "id": "b991fc96-95f4-41ef-9593-4c8fe15d4105",
   "metadata": {},
   "outputs": [
    {
     "data": {
      "text/plain": [
       "0.00137317"
      ]
     },
     "execution_count": 12,
     "metadata": {},
     "output_type": "execute_result"
    }
   ],
   "source": [
    "model.running_time # running_time in secs."
   ]
  },
  {
   "cell_type": "markdown",
   "id": "1df33c7c-29e9-441d-9530-cbe39fe6f8d2",
   "metadata": {},
   "source": [
    "<b>Reuse old model for complete new clustering problem:</b>"
   ]
  },
  {
   "cell_type": "code",
   "execution_count": 13,
   "id": "1a78a16f-4bfd-4e04-a024-943a253ade62",
   "metadata": {},
   "outputs": [
    {
     "name": "stdout",
     "output_type": "stream",
     "text": [
      "\n",
      "**** Successfully loaded 36 points/colors (dimension: 2) from 'shifting3.2dspace'\n"
     ]
    }
   ],
   "source": [
    "model.set_problem_parameters(k=4,rep_intervals=[(1,4),(0,0),(3,4)],privacy_bound=7)\n",
    "model.load_space_from_file(\"shifting3.2dspace\", expected = 40) # expected is optional. Default is 1000."
   ]
  },
  {
   "cell_type": "code",
   "execution_count": 15,
   "id": "c3953297-b0f7-433d-be68-c8f0fdb89a90",
   "metadata": {},
   "outputs": [
    {
     "name": "stdout",
     "output_type": "stream",
     "text": [
      "\n",
      "**** Solving: Clustering-Problem with k = 4, privacy_bound = 7 and representative_intervals: (1,4), (0,0), (3,4).\n",
      "\n",
      "  - Assertions done (time: 41.991µs): ClusteringProblem seems well stated.\n",
      "\n",
      "  - Phase 1 done (time: 15.371µs): Determined k = 4 centers by the Gonzalez heuristic: (0, 34, 19, 10).\n",
      "\n",
      "  - Phase 2 done (time: 396.821µs): Determined k = 4 clusterings:\n",
      "\tC_0:\tradius = 19.789816;\n",
      "\tC_1:\tradius = 13.340393;\n",
      "\tC_2:\tradius = 3.9102046;\n",
      "\tC_3:\tradius = 1.1738824;\n",
      "\n",
      "  - Phase 3 done (time: 33.389µs): Determined the following opening lists:\n",
      "\tC_0:\n",
      "\t\t(5) for forrest_radius = 0;\n",
      "\tC_1:\n",
      "\t\t(2, 3) for forrest_radius = 0;\n",
      "\t\t(2, 3) for forrest_radius = 19.789816;\n",
      "\tC_2:\n",
      "\t\t(2, 1, 1) for forrest_radius = 0;\n",
      "\t\t(2, 1, 2) for forrest_radius = 13.340393;\n",
      "\t\t(2, 1, 2) for forrest_radius = 18.651255;\n",
      "\tC_3:\n",
      "\t\t(1, 1, 1, 1) for forrest_radius = 0;\n",
      "\t\t(1, 1, 1, 1) for forrest_radius = 3.9102046;\n",
      "\t\t(1, 1, 2, 1) for forrest_radius = 13.340393;\n",
      "\t\t(1, 1, 2, 1) for forrest_radius = 18.651255;\n",
      "\n",
      "  - Phase 4 done (time: 300.74µs with 4 threads on 8 cores): Number of flow problems solved: 6. Determined the following new centers:\n",
      "\tC_0:\t(0, 21, 20, 24) \tassignment_radius: 18.593239;\tforrest_radius: 0; number of flow problems solved: 1\n",
      "\tC_1:\t(0, 34, 26, 29) \tassignment_radius: 0.3667421;\tforrest_radius: 0; number of flow problems solved: 1\n",
      "\tC_2:\t(0, 34, 19, 18) \tassignment_radius: 0.27073923;\tforrest_radius: 13.340393; number of flow problems solved: 2\n",
      "\tC_3:\t(0, 34, 19, 31) \tassignment_radius: 17.918056;\tforrest_radius: 0; number of flow problems solved: 2\n",
      "\n",
      "  - Phase 5 done (time: 292.579µs with 4 threads on 8 cores): Created assignments and chose the final clustering (based on C_2) with centers: (0, 34, 19, 25) and radius: 12.798633.\n",
      "\n",
      "  - Rerun of phase 2 done (time: 380.773µs): final clustering determined with radius: 11.854595 (improvement to phase 5: -0.94403744).\n",
      "\n",
      "**** Algorithm done (total time: 1.490279ms): Privacy-preserving representative k-center computed. Number of centers: 4; final radius: 11.854595.\n",
      "\tTimes: phase 1: 57.362µs; phase 2: 396.821µs; phase 3: 50.423µs; phase 4: 300.74µs; phase 5: 292.579µs; phase 2 rerun: 380.773µs;\n"
     ]
    }
   ],
   "source": [
    "model.compute_clustering(verbose = 2, thread_count = 4) # Optional: verbose (0: silent, 1: brief, 2: verbose; default: 1); thread_count (default: #cores); phase_2_rerun (default: True); phase_5_gonzalez (default: False);"
   ]
  },
  {
   "cell_type": "code",
   "execution_count": 16,
   "id": "d6364742-9d60-461a-b36b-dbee3faf185d",
   "metadata": {},
   "outputs": [
    {
     "data": {
      "image/png": "[encoded data removed]",
      "text/plain": [
       "<Figure size 864x576 with 1 Axes>"
      ]
     },
     "metadata": {
      "needs_background": "light"
     },
     "output_type": "display_data"
    }
   ],
   "source": [
    "model.plot2d()"
   ]
  },
  {
   "cell_type": "code",
   "execution_count": 17,
   "id": "30b1d543-c6d4-4e64-a628-06a4f34340be",
   "metadata": {},
   "outputs": [
    {
     "name": "stdout",
     "output_type": "stream",
     "text": [
      "\n",
      "**** Successfully loaded 14 points/colors (dimension: 3) from 'test.3dspace'\n"
     ]
    }
   ],
   "source": [
    "model.load_space_from_file(\"test.3dspace\") # expected is optional. Default is 1000.\n",
    "model.privacy_bound = 2"
   ]
  },
  {
   "cell_type": "code",
   "execution_count": 18,
   "id": "bbc4e20d-c490-4919-a9e7-8d7f2d60ff64",
   "metadata": {},
   "outputs": [
    {
     "name": "stdout",
     "output_type": "stream",
     "text": [
      "\n",
      "**** Solving: Clustering-Problem with k = 4, privacy_bound = 2 and representative_intervals: (1,4), (0,0), (3,4).\n",
      "  - Phase 1 done (time: 3.365µs): Determined k = 4 centers by the Gonzalez heuristic.\n",
      "  - Phase 2 done (time: 404.884µs): Determined k = 4 clusterings.\n",
      "  - Phase 3 done (time: 21.678µs): Determined opening lists.\n",
      "  - Phase 4 done (time: 318.825µs with 8 threads on 8 cores): Determined new centers. Number of flow problem solved: 4.\n",
      "  - Phase 5 done (time: 319.289µs with 8 threads on 8 cores): Created assignments and chose the final clustering (based on C_3) with radius: 9.818452.\n",
      "  - Rerun of phase 2 done (time: 412.352µs): final clustering determined with radius: 8.326092 (improvement to phase 5: 1.4923601).\n",
      "**** Algorithm done (total time: 1.518315ms): Privacy-preserving representative k-center computed. Number of centers: 4; final radius: 8.326092.\n"
     ]
    }
   ],
   "source": [
    "model.compute_clustering()"
   ]
  },
  {
   "cell_type": "code",
   "execution_count": 19,
   "id": "525e7996-85d0-4053-a5a5-9e46eb4f46ee",
   "metadata": {},
   "outputs": [
    {
     "data": {
      "image/png": "[encoded data removed]",
      "text/plain": [
       "<Figure size 864x576 with 1 Axes>"
      ]
     },
     "metadata": {
      "needs_background": "light"
     },
     "output_type": "display_data"
    }
   ],
   "source": [
    "model.plot2d(x_dim=0, y_dim=2) # as we are in 3d now, we have to specify which dimensions should be displayed. Default is x_dim=1 and y_dim=1."
   ]
  },
  {
   "cell_type": "code",
   "execution_count": 20,
   "id": "01cf7fe9-d5d6-48cf-9e8e-db03ad4945d7",
   "metadata": {},
   "outputs": [],
   "source": [
    "model.save_clustering_to_file(\"test.clustering\")"
   ]
  },
  {
   "cell_type": "markdown",
   "id": "fb6a3f96-5896-4723-8934-74eaf1d78825",
   "metadata": {},
   "source": [
    "For given centers we can run phase 2 to obtain a private assignment:"
   ]
  },
  {
   "cell_type": "code",
   "execution_count": 23,
   "id": "b5f48c4e-661e-48ef-903d-7ae2d1b5a86a",
   "metadata": {},
   "outputs": [
    {
     "data": {
      "image/png": "[encoded data removed]",
      "text/plain": [
       "<Figure size 864x576 with 1 Axes>"
      ]
     },
     "metadata": {
      "needs_background": "light"
     },
     "output_type": "display_data"
    }
   ],
   "source": [
    "model2 = FFKCenter(4,privacy_bound = 3) # note that this k=4 will be ignored, as we provide centers instead\n",
    "pos = [[1,2],[0,0],[6,7],[0,-1],[-2,-3],[0,-1.2],[1,3],[6,1],[2.3,1]]\n",
    "colors = [0] * len(pos) # color data needs to be provided but will be ignored\n",
    "model2.insert(pos,colors)\n",
    "model2.private_assignment_by_centers([0,1,3], thread_count = 2) # Centers by point indices. Optional: thread_count (default: #cores);\n",
    "model2.plot2d()"
   ]
  }
 ],
 "metadata": {
  "kernelspec": {
   "display_name": "Python 3 (ipykernel)",
   "language": "python",
   "name": "python3"
  },
  "language_info": {
   "codemirror_mode": {
    "name": "ipython",
    "version": 3
   },
   "file_extension": ".py",
   "mimetype": "text/x-python",
   "name": "python",
   "nbconvert_exporter": "python",
   "pygments_lexer": "ipython3",
   "version": "3.9.5"
  }
 },
 "nbformat": 4,
 "nbformat_minor": 5
}
