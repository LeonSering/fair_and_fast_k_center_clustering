{
 "cells": [
  {
   "cell_type": "code",
   "execution_count": 1,
   "id": "1c944b46-6984-4f03-bd50-5048d65032a9",
   "metadata": {},
   "outputs": [],
   "source": [
    "from ff_k_center import FFKCenter\n",
    "import numpy as np"
   ]
  },
  {
   "cell_type": "markdown",
   "id": "cdeac6ab-a122-4658-8ff7-c64d0bed5d4e",
   "metadata": {},
   "source": [
    "Create model with k=4, privacy_bound = 1 and representative intervals (1,13) for color class 0 and no restrictions for other color classes:"
   ]
  },
  {
   "cell_type": "code",
   "execution_count": 2,
   "id": "cad68d2e-6aea-48b1-99a3-db8b08a43f03",
   "metadata": {
    "tags": []
   },
   "outputs": [],
   "source": [
    "model = FFKCenter(4,1,[(1,13)]) # parameters: k, privacy_bound = 1, rep_intervals = []"
   ]
  },
  {
   "cell_type": "markdown",
   "id": "c61e9ad6-f727-4a46-8166-75cd3a6d568c",
   "metadata": {},
   "source": [
    "Load data in for of positions in the Eucleadean space (here dim = 2) and color labels for each point. Normal python arrays or numpy-arrays are fine.\n",
    "model.fit() loads the data and executes the algorithm afterwards."
   ]
  },
  {
   "cell_type": "code",
   "execution_count": 3,
   "id": "bab2c545-364c-40a6-b15e-49ccdecd9fbf",
   "metadata": {},
   "outputs": [
    {
     "name": "stdout",
     "output_type": "stream",
     "text": [
      "  - Phase 1 done (time: 1.33µs): Determined k = 4 centers by the Gonzales heuristic.\n",
      "  - Phase 2 done (time: 96.715µs): Determined k = 4 clusterings.\n",
      "  - Phase 3 done (time: 36.964µs): Determined opening lists.\n",
      "  - Phase 4 done (time: 489.713µs with 8 threads on 8 cores): Determined new centers. Number of flow problem solved: 4.\n",
      "  - Phase 5 done (time: 39.03µs): Created assignments and chose the final clustering (based on C_3).\n",
      "**** Algorithm done (total time: 667.363µs): Privacy-preserving representative k-center computed. Number of centers: 4; final radius: 2.828427.\n"
     ]
    }
   ],
   "source": [
    "pos = np.array([[1,2],[0,0],[6,7],[0,-1],[-2,-3],[0,-1.2],[1,3],[6,1]])\n",
    "colors = np.array([0,0,0,1,1,0,0,1])\n",
    "model.fit(pos,colors) # positions of points, followed by colors, Optinal: verbose = False"
   ]
  },
  {
   "cell_type": "code",
   "execution_count": 4,
   "id": "23d38f78-d700-4f8c-864e-c1c1944a306c",
   "metadata": {},
   "outputs": [
    {
     "data": {
      "image/png": "[encoded data removed]",
      "text/plain": [
       "<Figure size 864x576 with 1 Axes>"
      ]
     },
     "metadata": {
      "needs_background": "light"
     },
     "output_type": "display_data"
    }
   ],
   "source": [
    "model.plot2d() # for this matplotlib must be installed"
   ]
  },
  {
   "cell_type": "code",
   "execution_count": 5,
   "id": "887842e3-dfa2-4b4a-b8fd-9ada5a61f158",
   "metadata": {},
   "outputs": [
    {
     "data": {
      "text/plain": [
       "[0, 0, 1, 2, 2, 2, 0, 3]"
      ]
     },
     "execution_count": 5,
     "metadata": {},
     "output_type": "execute_result"
    }
   ],
   "source": [
    "model.cluster_labels # for each point a cluster_label (enumerated from 0,...,m)"
   ]
  },
  {
   "cell_type": "code",
   "execution_count": 6,
   "id": "10009ef3-c065-40c3-a24d-49671a321d8c",
   "metadata": {},
   "outputs": [
    {
     "data": {
      "text/plain": [
       "[0, 2, 4, 7]"
      ]
     },
     "execution_count": 6,
     "metadata": {},
     "output_type": "execute_result"
    }
   ],
   "source": [
    "model.centers # Chosen centers by the point-index."
   ]
  },
  {
   "cell_type": "code",
   "execution_count": 7,
   "id": "b1d0dd00-441a-4335-92d6-0c40efed4c07",
   "metadata": {},
   "outputs": [
    {
     "data": {
      "text/plain": [
       "[0, 0, 2, 4, 4, 4, 0, 7]"
      ]
     },
     "execution_count": 7,
     "metadata": {},
     "output_type": "execute_result"
    }
   ],
   "source": [
    "model.assignment # for each point the center it is assigned to."
   ]
  },
  {
   "cell_type": "markdown",
   "id": "34f66424-d42d-499e-b677-a3ef3bbecfa4",
   "metadata": {},
   "source": [
    "It is also possible to read/write the paramters. By writing the clustering is removed and needs to be recomputed via model.compute_clustering()."
   ]
  },
  {
   "cell_type": "code",
   "execution_count": 8,
   "id": "bcbe9051-1de6-4086-9e7e-c51a3a76aa77",
   "metadata": {},
   "outputs": [
    {
     "data": {
      "text/plain": [
       "[(1, 13)]"
      ]
     },
     "execution_count": 8,
     "metadata": {},
     "output_type": "execute_result"
    }
   ],
   "source": [
    "model.rep_intervals"
   ]
  },
  {
   "cell_type": "code",
   "execution_count": 9,
   "id": "68f45b92-8bbd-47f2-9450-0bb07989dfd7",
   "metadata": {},
   "outputs": [
    {
     "data": {
      "text/plain": [
       "1"
      ]
     },
     "execution_count": 9,
     "metadata": {},
     "output_type": "execute_result"
    }
   ],
   "source": [
    "model.privacy_bound"
   ]
  },
  {
   "cell_type": "markdown",
   "id": "1df33c7c-29e9-441d-9530-cbe39fe6f8d2",
   "metadata": {},
   "source": [
    "<b>Reuse old model for complete new clustering problem:</b>"
   ]
  },
  {
   "cell_type": "code",
   "execution_count": 10,
   "id": "1a78a16f-4bfd-4e04-a024-943a253ade62",
   "metadata": {},
   "outputs": [
    {
     "name": "stdout",
     "output_type": "stream",
     "text": [
      "\n",
      "**** Successfully loaded 36 points/colors (dimension: 2) from 'shifting3.2dspace'\n"
     ]
    }
   ],
   "source": [
    "model.set_problem_parameters(k=4,rep_intervals=[(1,4),(0,0),(3,4)],privacy_bound=7)\n",
    "model.load_space_from_file(\"shifting3.2dspace\", expected = 40) # expected is optional. Default is 1000."
   ]
  },
  {
   "cell_type": "code",
   "execution_count": 20,
   "id": "c3953297-b0f7-433d-be68-c8f0fdb89a90",
   "metadata": {},
   "outputs": [
    {
     "name": "stdout",
     "output_type": "stream",
     "text": [
      "\n",
      "**** Solving: Clustering-Problem with k = 4, privacy_bound = 2 and representative_intervals: (1,4), (0,0), (3,4).\n",
      "\n",
      "  - Assertions done (time: 24.114µs): ClusteringProblem seems well stated.\n",
      "\n",
      "  - Phase 1 done (time: 10.646µs): Determined k = 4 centers by the Gonzales heuristic: (0, 12, 8, 11).\n",
      "\n",
      "  - Phase 2 done (time: 163.357µs): Determined k = 4 clusterings:\n",
      "\tC_0:\tradius = 15.062934;\n",
      "\tC_1:\tradius = 13.719348;\n",
      "\tC_2:\tradius = 9.37414;\n",
      "\tC_3:\tradius = 8.896095;\n",
      "\n",
      "  - Phase 3 done (time: 28.768µs): Determined the following opening lists:\n",
      "\tC_0:\n",
      "\t\t(7) for forrest_radius = 0;\n",
      "\tC_1:\n",
      "\t\t(3, 4) for forrest_radius = 0;\n",
      "\t\t(3, 4) for forrest_radius = 15.062934;\n",
      "\tC_2:\n",
      "\t\t(2, 2, 2) for forrest_radius = 0;\n",
      "\t\t(2, 2, 3) for forrest_radius = 13.719348;\n",
      "\t\t(2, 2, 3) for forrest_radius = 13.789942;\n",
      "\tC_3:\n",
      "\t\t(1, 2, 2, 2) for forrest_radius = 0;\n",
      "\t\t(1, 2, 2, 2) for forrest_radius = 9.37414;\n",
      "\t\t(1, 2, 2, 2) for forrest_radius = 11.468722;\n",
      "\t\t(1, 2, 2, 2) for forrest_radius = 11.822643;\n",
      "\n",
      "  - Phase 4 done (time: 507.535µs with 8 threads on 8 cores): Number of flow problems solved: 4. Determined the following new centers:\n",
      "\tC_0:\t(0, 9, 7, 8) \tassignment_radius: 13.789942;\tforrest_radius: 0; number of flow problems solved: 1\n",
      "\tC_1:\t(0, 7, 9, 8) \tassignment_radius: 13.719348;\tforrest_radius: 0; number of flow problems solved: 1\n",
      "\tC_2:\t(0, 8, 7, 9) \tassignment_radius: 8.896095;\tforrest_radius: 0; number of flow problems solved: 1\n",
      "\tC_3:\t(8, 1, 7, 9) \tassignment_radius: 9.579092;\tforrest_radius: 0; number of flow problems solved: 1\n",
      "\n",
      "  - Phase 5 done (time: 157.488µs): Created assignments and chose the final clustering (based on C_3) with centers: (8, 1, 7, 9) and radius: 9.818452.\n",
      "\n",
      "**** Algorithm done (total time: 903.208µs): Privacy-preserving representative k-center computed. Number of centers: 4; final radius: 9.818452.\n",
      "\tTimes: phase 1: 34.76µs; phase 2: 163.357µs; phase 3: 40.068µs; phase 4: 507.535µs; phase 5: 157.488µs;\n"
     ]
    }
   ],
   "source": [
    "model.compute_clustering(verbose = 2) # verbose is optional. 0: Silent, 1: Brief, 2: Verbose; Default = 1"
   ]
  },
  {
   "cell_type": "code",
   "execution_count": 16,
   "id": "d6364742-9d60-461a-b36b-dbee3faf185d",
   "metadata": {},
   "outputs": [
    {
     "data": {
      "image/png": "[encoded data removed]",
      "text/plain": [
       "<Figure size 864x576 with 1 Axes>"
      ]
     },
     "metadata": {
      "needs_background": "light"
     },
     "output_type": "display_data"
    }
   ],
   "source": [
    "model.plot2d()"
   ]
  },
  {
   "cell_type": "code",
   "execution_count": 17,
   "id": "30b1d543-c6d4-4e64-a628-06a4f34340be",
   "metadata": {},
   "outputs": [
    {
     "name": "stdout",
     "output_type": "stream",
     "text": [
      "\n",
      "**** Successfully loaded 14 points/colors (dimension: 3) from 'test.3dspace'\n"
     ]
    }
   ],
   "source": [
    "model.load_space_from_file(\"test.3dspace\") # expected is optional. Default is 1000.\n",
    "model.privacy_bound = 2"
   ]
  },
  {
   "cell_type": "code",
   "execution_count": 18,
   "id": "bbc4e20d-c490-4919-a9e7-8d7f2d60ff64",
   "metadata": {},
   "outputs": [
    {
     "name": "stdout",
     "output_type": "stream",
     "text": [
      "  - Phase 1 done (time: 3.272µs): Determined k = 4 centers by the Gonzales heuristic.\n",
      "  - Phase 2 done (time: 102.638µs): Determined k = 4 clusterings.\n",
      "  - Phase 3 done (time: 16.51µs): Determined opening lists.\n",
      "  - Phase 4 done (time: 312.103µs with 8 threads on 8 cores): Determined new centers. Number of flow problem solved: 4.\n",
      "  - Phase 5 done (time: 54.309µs): Created assignments and chose the final clustering (based on C_3).\n",
      "**** Algorithm done (total time: 493.018µs): Privacy-preserving representative k-center computed. Number of centers: 4; final radius: 9.818452.\n"
     ]
    }
   ],
   "source": [
    "model.compute_clustering()"
   ]
  },
  {
   "cell_type": "code",
   "execution_count": 19,
   "id": "525e7996-85d0-4053-a5a5-9e46eb4f46ee",
   "metadata": {},
   "outputs": [
    {
     "data": {
      "image/png": "[encoded data removed]",
      "text/plain": [
       "<Figure size 864x576 with 1 Axes>"
      ]
     },
     "metadata": {
      "needs_background": "light"
     },
     "output_type": "display_data"
    }
   ],
   "source": [
    "model.plot2d(x_dim=0, y_dim=2) # as we are in 3d now, we have to specify which dimensions should be displayed. Default is x_dim=1 and y_dim=1."
   ]
  },
  {
   "cell_type": "code",
   "execution_count": 40,
   "id": "01cf7fe9-d5d6-48cf-9e8e-db03ad4945d7",
   "metadata": {},
   "outputs": [],
   "source": [
    "model.save_clustering_to_file(\"test.clustering\")"
   ]
  },
  {
   "cell_type": "markdown",
   "id": "fb6a3f96-5896-4723-8934-74eaf1d78825",
   "metadata": {},
   "source": [
    "For given centers we can run phase 2 to obtain a private assignment:"
   ]
  },
  {
   "cell_type": "code",
   "execution_count": 19,
   "id": "b5f48c4e-661e-48ef-903d-7ae2d1b5a86a",
   "metadata": {},
   "outputs": [
    {
     "data": {
      "image/png": "[encoded data removed]",
      "text/plain": [
       "<Figure size 864x576 with 1 Axes>"
      ]
     },
     "metadata": {
      "needs_background": "light"
     },
     "output_type": "display_data"
    }
   ],
   "source": [
    "model2 = FFKCenter(4,privacy_bound = 3) # note that this k=4 will be ignored, as we provide centers instead\n",
    "pos = [[1,2],[0,0],[6,7],[0,-1],[-2,-3],[0,-1.2],[1,3],[6,1],[2.3,1]]\n",
    "colors = [0] * len(pos) # color data needs to be provided but will be ignored\n",
    "model2.insert(pos,colors)\n",
    "model2.private_assignment_by_centers([0,1,3])\n",
    "model2.plot2d()"
   ]
  }
 ],
 "metadata": {
  "kernelspec": {
   "display_name": "Python 3 (ipykernel)",
   "language": "python",
   "name": "python3"
  },
  "language_info": {
   "codemirror_mode": {
    "name": "ipython",
    "version": 3
   },
   "file_extension": ".py",
   "mimetype": "text/x-python",
   "name": "python",
   "nbconvert_exporter": "python",
   "pygments_lexer": "ipython3",
   "version": "3.9.5"
  }
 },
 "nbformat": 4,
 "nbformat_minor": 5
}
