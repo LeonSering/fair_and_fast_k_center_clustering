{
 "cells": [
  {
   "cell_type": "code",
   "execution_count": 2,
   "id": "1c944b46-6984-4f03-bd50-5048d65032a9",
   "metadata": {},
   "outputs": [],
   "source": [
    "from ff_k_center import FFKCenter\n",
    "import numpy as np"
   ]
  },
  {
   "cell_type": "markdown",
   "id": "cdeac6ab-a122-4658-8ff7-c64d0bed5d4e",
   "metadata": {},
   "source": [
    "### Prepare data:\n",
    "\n",
    "Create model with k=4, privacy_bound = 1 and representative intervals (1,13) for color class 0 and no restrictions for other color classes:"
   ]
  },
  {
   "cell_type": "code",
   "execution_count": 3,
   "id": "cad68d2e-6aea-48b1-99a3-db8b08a43f03",
   "metadata": {
    "tags": []
   },
   "outputs": [],
   "source": [
    "model = FFKCenter(4,1,[(1,13)]) # parameters: k, privacy_bound = 1, rep_intervals = []"
   ]
  },
  {
   "cell_type": "markdown",
   "id": "c61e9ad6-f727-4a46-8166-75cd3a6d568c",
   "metadata": {},
   "source": [
    "Load data in for of positions in the Eucleadean space (here dim = 2) and color labels for each point. Normal python arrays or numpy-arrays are fine.\n",
    "model.fit() loads the data and executes the algorithm afterwards."
   ]
  },
  {
   "cell_type": "code",
   "execution_count": 4,
   "id": "bab2c545-364c-40a6-b15e-49ccdecd9fbf",
   "metadata": {},
   "outputs": [],
   "source": [
    "pos = np.array([[1,2],[0,0],[6,7],[0,-1],[-2,-3],[0,-1.2],[1,3],[6,1]])\n",
    "colors = np.array([0,0,0,1,1,0,0,1])"
   ]
  },
  {
   "cell_type": "markdown",
   "id": "c91a3f5e-9c96-4bc3-a58a-daae777c5ce6",
   "metadata": {},
   "source": [
    "### Execute algorithm:"
   ]
  },
  {
   "cell_type": "code",
   "execution_count": 5,
   "id": "9dd91fcf-57ec-4a32-8724-b96ceae3d888",
   "metadata": {},
   "outputs": [
    {
     "name": "stdout",
     "output_type": "stream",
     "text": [
      "\n",
      "**** Solving: Clustering-Problem with k = 4, privacy_bound = 1 and representative_intervals: (1,13).\n",
      "\n",
      "  - Assertions done (time: 207.4µs): ClusteringProblem seems well stated.\n",
      "\n",
      "  - Phase 1 done (time: 16.32µs): Determined k = 4 centers by the Gonzalez heuristic: (0, 2, 4, 7).\n",
      "\n",
      "  - Phase 2 done (time: 2.126866ms): Determined k = 4 clusterings:\n",
      "\tC_0:\tradius = 7.071068;\n",
      "\tC_1:\tradius = 5.8309517;\n",
      "\tC_2:\tradius = 5.0990195;\n",
      "\tC_3:\tradius = 2.828427;\n",
      "\n",
      "  - Phase 3 done (time: 52.888µs): Determined the following opening lists:\n",
      "\tC_0:\n",
      "\t\t(8) for forrest_radius = 0;\n",
      "\tC_1:\n",
      "\t\t(7, 1) for forrest_radius = 0;\n",
      "\t\t(7, 1) for forrest_radius = 7.071068;\n",
      "\tC_2:\n",
      "\t\t(4, 1, 3) for forrest_radius = 0;\n",
      "\t\t(4, 1, 3) for forrest_radius = 5.8309517;\n",
      "\t\t(4, 1, 3) for forrest_radius = 7.071068;\n",
      "\tC_3:\n",
      "\t\t(3, 1, 3, 1) for forrest_radius = 0;\n",
      "\t\t(3, 1, 3, 1) for forrest_radius = 5.0990195;\n",
      "\t\t(3, 1, 3, 1) for forrest_radius = 5.8309517;\n",
      "\t\t(3, 1, 3, 1) for forrest_radius = 6;\n",
      "\n",
      "  - Phase 4 done (time: 788.367µs with 6 threads on 8 cores): Number of flow problems solved: 4. Determined the following new centers:\n",
      "\tC_0:\t(0) \tassignment_radius: 0;\tforrest_radius: 0; number of flow problems solved: 1\n",
      "\tC_1:\t(0, 2) \tassignment_radius: 0;\tforrest_radius: 0; number of flow problems solved: 1\n",
      "\tC_2:\t(0, 2, 4) \tassignment_radius: 0;\tforrest_radius: 0; number of flow problems solved: 1\n",
      "\tC_3:\t(0, 2, 4, 7) \tassignment_radius: 0;\tforrest_radius: 0; number of flow problems solved: 1\n",
      "\n",
      "  - Phase 5 done (time: 802.039µs with 6 threads on 8 cores): Created assignments and chose the final clustering (based on C_3) with centers: (0, 2, 4, 7) and radius: 2.828427.\n",
      "\n",
      "  - Rerun of phase 2 done (time: 1.120944ms): final clustering determined with radius: 2.828427 (improvement to phase 5: 0).\n",
      "\n",
      "**** Algorithm done (total time: 5.180099ms): Privacy-preserving representative k-center computed. Number of centers: 4; final radius: 2.828427.\n",
      "\tTimes: phase 1: 223.72µs; phase 2: 2.126866ms; phase 3: 92.228µs; phase 4: 788.367µs; phase 5: 802.039µs; phase 2 rerun: 1.120944ms;\n"
     ]
    }
   ],
   "source": [
    "model.fit(pos, colors, verbose = 2, thread_count = 6, phase_2_rerun = True, phase_5_gonzalez = False) \n",
    "# Parameters: positions of points, colors of points; Optional: verbose (0: silent, 1: brief, 2: verbose; default: 1); thread_count (default: #cores); phase_2_rerun (default: True); phase_5_gonzalez (default: False);"
   ]
  },
  {
   "cell_type": "markdown",
   "id": "f9d22054-8ce2-4598-940f-14fc3093cd5d",
   "metadata": {
    "tags": []
   },
   "source": [
    "### Read results:"
   ]
  },
  {
   "cell_type": "code",
   "execution_count": 6,
   "id": "23d38f78-d700-4f8c-864e-c1c1944a306c",
   "metadata": {},
   "outputs": [
    {
     "data": {
      "image/png": "[encoded data removed]",
      "text/plain": [
       "<Figure size 1200x800 with 1 Axes>"
      ]
     },
     "metadata": {},
     "output_type": "display_data"
    }
   ],
   "source": [
    "model.plot2d() # for this matplotlib must be installed"
   ]
  },
  {
   "cell_type": "code",
   "execution_count": 7,
   "id": "0cc9cb83-3cdf-4ce0-b61e-66a0b6362d20",
   "metadata": {},
   "outputs": [
    {
     "data": {
      "text/plain": [
       "2.8284270763397217"
      ]
     },
     "execution_count": 7,
     "metadata": {},
     "output_type": "execute_result"
    }
   ],
   "source": [
    "model.radius # the final radius of the assignment"
   ]
  },
  {
   "cell_type": "code",
   "execution_count": 8,
   "id": "10009ef3-c065-40c3-a24d-49671a321d8c",
   "metadata": {},
   "outputs": [
    {
     "data": {
      "text/plain": [
       "[0, 2, 4, 7]"
      ]
     },
     "execution_count": 8,
     "metadata": {},
     "output_type": "execute_result"
    }
   ],
   "source": [
    "model.centers # Chosen centers by the point-index."
   ]
  },
  {
   "cell_type": "code",
   "execution_count": 9,
   "id": "b1d0dd00-441a-4335-92d6-0c40efed4c07",
   "metadata": {},
   "outputs": [
    {
     "data": {
      "text/plain": [
       "[0, 0, 2, 4, 4, 4, 0, 7]"
      ]
     },
     "execution_count": 9,
     "metadata": {},
     "output_type": "execute_result"
    }
   ],
   "source": [
    "model.assignment # for each point the center it is assigned to."
   ]
  },
  {
   "cell_type": "code",
   "execution_count": 10,
   "id": "ea4da945-00f3-4de0-9710-4107bfc83a3e",
   "metadata": {},
   "outputs": [
    {
     "data": {
      "text/plain": [
       "4"
      ]
     },
     "execution_count": 10,
     "metadata": {},
     "output_type": "execute_result"
    }
   ],
   "source": [
    "model.number_of_centers"
   ]
  },
  {
   "cell_type": "code",
   "execution_count": 11,
   "id": "887842e3-dfa2-4b4a-b8fd-9ada5a61f158",
   "metadata": {},
   "outputs": [
    {
     "data": {
      "text/plain": [
       "[0, 0, 1, 2, 2, 2, 0, 3]"
      ]
     },
     "execution_count": 11,
     "metadata": {},
     "output_type": "execute_result"
    }
   ],
   "source": [
    "model.cluster_labels # for each point a cluster_label (= index of the center it is assigned to, enumerated from 0,...,m-1)"
   ]
  },
  {
   "cell_type": "code",
   "execution_count": 12,
   "id": "b991fc96-95f4-41ef-9593-4c8fe15d4105",
   "metadata": {},
   "outputs": [
    {
     "data": {
      "text/plain": [
       "0.005180099"
      ]
     },
     "execution_count": 12,
     "metadata": {},
     "output_type": "execute_result"
    }
   ],
   "source": [
    "model.running_time # running_time in secs."
   ]
  },
  {
   "cell_type": "markdown",
   "id": "34f66424-d42d-499e-b677-a3ef3bbecfa4",
   "metadata": {
    "tags": []
   },
   "source": [
    "### Reading parameters of the model:"
   ]
  },
  {
   "cell_type": "code",
   "execution_count": 13,
   "id": "f84fffbe-43b1-4d9a-9058-5d5a041c2b7a",
   "metadata": {},
   "outputs": [
    {
     "data": {
      "text/plain": [
       "4"
      ]
     },
     "execution_count": 13,
     "metadata": {},
     "output_type": "execute_result"
    }
   ],
   "source": [
    "model.k"
   ]
  },
  {
   "cell_type": "code",
   "execution_count": 14,
   "id": "bcbe9051-1de6-4086-9e7e-c51a3a76aa77",
   "metadata": {},
   "outputs": [
    {
     "data": {
      "text/plain": [
       "[(1, 13)]"
      ]
     },
     "execution_count": 14,
     "metadata": {},
     "output_type": "execute_result"
    }
   ],
   "source": [
    "model.rep_intervals"
   ]
  },
  {
   "cell_type": "code",
   "execution_count": 15,
   "id": "68f45b92-8bbd-47f2-9450-0bb07989dfd7",
   "metadata": {},
   "outputs": [
    {
     "data": {
      "text/plain": [
       "1"
      ]
     },
     "execution_count": 15,
     "metadata": {},
     "output_type": "execute_result"
    }
   ],
   "source": [
    "model.privacy_bound"
   ]
  },
  {
   "cell_type": "code",
   "execution_count": 16,
   "id": "156bd27c-1631-44f7-8df9-8d6d1b49bbb2",
   "metadata": {},
   "outputs": [
    {
     "data": {
      "text/plain": [
       "[[1.0, 2.0],\n",
       " [0.0, 0.0],\n",
       " [6.0, 7.0],\n",
       " [0.0, -1.0],\n",
       " [-2.0, -3.0],\n",
       " [0.0, -1.2000000476837158],\n",
       " [1.0, 3.0],\n",
       " [6.0, 1.0]]"
      ]
     },
     "execution_count": 16,
     "metadata": {},
     "output_type": "execute_result"
    }
   ],
   "source": [
    "model.data"
   ]
  },
  {
   "cell_type": "code",
   "execution_count": 17,
   "id": "9b6a8238-2be8-4a2f-a160-dc00ee24526c",
   "metadata": {},
   "outputs": [
    {
     "data": {
      "text/plain": [
       "[0, 0, 0, 1, 1, 0, 0, 1]"
      ]
     },
     "execution_count": 17,
     "metadata": {},
     "output_type": "execute_result"
    }
   ],
   "source": [
    "model.colors"
   ]
  },
  {
   "cell_type": "markdown",
   "id": "1df33c7c-29e9-441d-9530-cbe39fe6f8d2",
   "metadata": {},
   "source": [
    "### Modifying the model:\n",
    "By writing, the computed clustering is removed and needs to be recomputed via model.compute_clustering() or model.fit()."
   ]
  },
  {
   "cell_type": "code",
   "execution_count": 18,
   "id": "36ca6306-e301-4ba7-8091-607812443379",
   "metadata": {},
   "outputs": [],
   "source": [
    "model.k = 2"
   ]
  },
  {
   "cell_type": "code",
   "execution_count": 19,
   "id": "b9e2ea46-a896-4026-bb31-349b5414f4c7",
   "metadata": {},
   "outputs": [],
   "source": [
    "model.rep_intervals = [(1,2),(1,7),(0,3)]"
   ]
  },
  {
   "cell_type": "code",
   "execution_count": null,
   "id": "ba503bef-9ac4-42e8-bad6-bd274bd3b6fb",
   "metadata": {},
   "outputs": [],
   "source": [
    "model.privacy_bound = 3"
   ]
  },
  {
   "cell_type": "markdown",
   "id": "a27d948f-b905-4a4d-aec5-6772a8ac844d",
   "metadata": {},
   "source": [
    "As the data is still contained in the model, we can run the following command to compute a new assignment:"
   ]
  },
  {
   "cell_type": "code",
   "execution_count": null,
   "id": "c3953297-b0f7-433d-be68-c8f0fdb89a90",
   "metadata": {},
   "outputs": [],
   "source": [
    "model.compute_clustering(verbose = 1, thread_count = 4) # Optional: verbose (0: silent, 1: brief, 2: verbose; default: 1); thread_count (default: #cores); phase_2_rerun (default: True); phase_5_gonzalez (default: False);"
   ]
  },
  {
   "cell_type": "code",
   "execution_count": null,
   "id": "6291c910-00ad-4fed-8101-70c1b07b3424",
   "metadata": {},
   "outputs": [],
   "source": [
    "model.plot2d()"
   ]
  },
  {
   "cell_type": "markdown",
   "id": "576e66a8-56ef-4e5b-9f41-7a408b34f092",
   "metadata": {},
   "source": [
    "### Loading from and saving to files:"
   ]
  },
  {
   "cell_type": "code",
   "execution_count": null,
   "id": "c6f0562b-d1ae-4e4d-a547-71148fadef63",
   "metadata": {},
   "outputs": [],
   "source": [
    "model.load_space_from_file(\"test_instance.2dspace\", expected = 40) # expected is optional. Default is 1000."
   ]
  },
  {
   "cell_type": "code",
   "execution_count": null,
   "id": "1a78a16f-4bfd-4e04-a024-943a253ade62",
   "metadata": {},
   "outputs": [],
   "source": [
    "model.set_problem_parameters(k=4,rep_intervals=[(1,4),(3,4)],privacy_bound=5)\n",
    "model.compute_clustering(verbose = 0, thread_count = 4)\n",
    "model.plot2d()"
   ]
  },
  {
   "cell_type": "code",
   "execution_count": null,
   "id": "a3be405a-aa15-497f-ad86-9d9e595080b0",
   "metadata": {},
   "outputs": [],
   "source": [
    "model.save_clustering_to_file(\"test_result.clustering\")"
   ]
  },
  {
   "cell_type": "markdown",
   "id": "fb6a3f96-5896-4723-8934-74eaf1d78825",
   "metadata": {},
   "source": [
    "### Find private assignment for a given set of centers:"
   ]
  },
  {
   "cell_type": "code",
   "execution_count": null,
   "id": "b5f48c4e-661e-48ef-903d-7ae2d1b5a86a",
   "metadata": {},
   "outputs": [],
   "source": [
    "model2 = FFKCenter(4,privacy_bound = 3) # note that this k=4 will be ignored, as we provide centers instead\n",
    "model2.load_space_from_file(\"test_instance.3dspace\")\n",
    "model2.private_assignment_by_centers([0,1,3], thread_count = 2) # Centers by point indices. Optional: thread_count (default: #cores);\n",
    "model2.plot2d(x_dim = 2, y_dim = 0) # the dimension of the dataset is 3, hence we can choose with these two optional parameters which, dimensions should be plotted (default: x_dim = 0, y_dim = 1)"
   ]
  }
 ],
 "metadata": {
  "kernelspec": {
   "display_name": "Python 3 (ipykernel)",
   "language": "python",
   "name": "python3"
  },
  "language_info": {
   "codemirror_mode": {
    "name": "ipython",
    "version": 3
   },
   "file_extension": ".py",
   "mimetype": "text/x-python",
   "name": "python",
   "nbconvert_exporter": "python",
   "pygments_lexer": "ipython3",
   "version": "3.11.6"
  }
 },
 "nbformat": 4,
 "nbformat_minor": 5
}
